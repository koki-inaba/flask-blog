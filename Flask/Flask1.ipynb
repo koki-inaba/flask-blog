{
 "cells": [
  {
   "cell_type": "code",
   "execution_count": 1,
   "metadata": {},
   "outputs": [
    {
     "name": "stdout",
     "output_type": "stream",
     "text": [
      "Requirement already satisfied: Flask in /Users/inabakoki/opt/anaconda3/lib/python3.7/site-packages (1.1.1)\n",
      "Requirement already satisfied: Jinja2>=2.10.1 in /Users/inabakoki/opt/anaconda3/lib/python3.7/site-packages (from Flask) (2.11.1)\n",
      "Requirement already satisfied: itsdangerous>=0.24 in /Users/inabakoki/opt/anaconda3/lib/python3.7/site-packages (from Flask) (1.1.0)\n",
      "Requirement already satisfied: Werkzeug>=0.15 in /Users/inabakoki/opt/anaconda3/lib/python3.7/site-packages (from Flask) (1.0.0)\n",
      "Requirement already satisfied: click>=5.1 in /Users/inabakoki/opt/anaconda3/lib/python3.7/site-packages (from Flask) (7.0)\n",
      "Requirement already satisfied: MarkupSafe>=0.23 in /Users/inabakoki/opt/anaconda3/lib/python3.7/site-packages (from Jinja2>=2.10.1->Flask) (1.1.1)\n",
      "Note: you may need to restart the kernel to use updated packages.\n"
     ]
    }
   ],
   "source": [
    "pip install Flask"
   ]
  },
  {
   "cell_type": "code",
   "execution_count": 2,
   "metadata": {},
   "outputs": [],
   "source": [
    "from flask import Flask\n"
   ]
  },
  {
   "cell_type": "code",
   "execution_count": 3,
   "metadata": {},
   "outputs": [],
   "source": [
    "f = open('hello.py', 'w')"
   ]
  },
  {
   "cell_type": "code",
   "execution_count": 4,
   "metadata": {},
   "outputs": [
    {
     "name": "stdout",
     "output_type": "stream",
     "text": [
      "Requirement already satisfied: pipenv in /Users/inabakoki/opt/anaconda3/lib/python3.7/site-packages (2022.7.4)\n",
      "Requirement already satisfied: certifi in /Users/inabakoki/opt/anaconda3/lib/python3.7/site-packages (from pipenv) (2019.11.28)\n",
      "Requirement already satisfied: setuptools>=36.2.1 in /Users/inabakoki/opt/anaconda3/lib/python3.7/site-packages (from pipenv) (46.0.0.post20200309)\n",
      "Requirement already satisfied: pip>=22.0.4 in /Users/inabakoki/opt/anaconda3/lib/python3.7/site-packages (from pipenv) (23.0)\n",
      "Requirement already satisfied: virtualenv-clone>=0.2.5 in /Users/inabakoki/opt/anaconda3/lib/python3.7/site-packages (from pipenv) (0.5.7)\n",
      "Requirement already satisfied: virtualenv in /Users/inabakoki/opt/anaconda3/lib/python3.7/site-packages (from pipenv) (20.15.1)\n",
      "Requirement already satisfied: importlib-metadata>=0.12 in /Users/inabakoki/opt/anaconda3/lib/python3.7/site-packages (from virtualenv->pipenv) (6.0.0)\n",
      "Requirement already satisfied: platformdirs<3,>=2 in /Users/inabakoki/opt/anaconda3/lib/python3.7/site-packages (from virtualenv->pipenv) (2.5.2)\n",
      "Requirement already satisfied: filelock<4,>=3.2 in /Users/inabakoki/opt/anaconda3/lib/python3.7/site-packages (from virtualenv->pipenv) (3.7.1)\n",
      "Requirement already satisfied: six<2,>=1.9.0 in /Users/inabakoki/opt/anaconda3/lib/python3.7/site-packages (from virtualenv->pipenv) (1.14.0)\n",
      "Requirement already satisfied: distlib<1,>=0.3.1 in /Users/inabakoki/opt/anaconda3/lib/python3.7/site-packages (from virtualenv->pipenv) (0.3.5)\n",
      "Requirement already satisfied: zipp>=0.5 in /Users/inabakoki/opt/anaconda3/lib/python3.7/site-packages (from importlib-metadata>=0.12->virtualenv->pipenv) (2.2.0)\n",
      "Requirement already satisfied: typing-extensions>=3.6.4 in /Users/inabakoki/opt/anaconda3/lib/python3.7/site-packages (from importlib-metadata>=0.12->virtualenv->pipenv) (4.4.0)\n",
      "Note: you may need to restart the kernel to use updated packages.\n"
     ]
    }
   ],
   "source": [
    "pip install pipenv"
   ]
  },
  {
   "cell_type": "code",
   "execution_count": 5,
   "metadata": {},
   "outputs": [
    {
     "ename": "NameError",
     "evalue": "name 'pipenv' is not defined",
     "output_type": "error",
     "traceback": [
      "\u001b[0;31m---------------------------------------------------------------------------\u001b[0m",
      "\u001b[0;31mNameError\u001b[0m                                 Traceback (most recent call last)",
      "\u001b[0;32m<ipython-input-5-4995805067e2>\u001b[0m in \u001b[0;36m<module>\u001b[0;34m\u001b[0m\n\u001b[0;32m----> 1\u001b[0;31m \u001b[0mpipenv\u001b[0m \u001b[0;34m-\u001b[0m\u001b[0;34m-\u001b[0m\u001b[0mversion\u001b[0m\u001b[0;34m\u001b[0m\u001b[0;34m\u001b[0m\u001b[0m\n\u001b[0m",
      "\u001b[0;31mNameError\u001b[0m: name 'pipenv' is not defined"
     ]
    }
   ],
   "source": [
    "pipenv --version"
   ]
  },
  {
   "cell_type": "code",
   "execution_count": null,
   "metadata": {},
   "outputs": [],
   "source": []
  }
 ],
 "metadata": {
  "kernelspec": {
   "display_name": "Python 3",
   "language": "python",
   "name": "python3"
  },
  "language_info": {
   "codemirror_mode": {
    "name": "ipython",
    "version": 3
   },
   "file_extension": ".py",
   "mimetype": "text/x-python",
   "name": "python",
   "nbconvert_exporter": "python",
   "pygments_lexer": "ipython3",
   "version": "3.7.6"
  }
 },
 "nbformat": 4,
 "nbformat_minor": 4
}
